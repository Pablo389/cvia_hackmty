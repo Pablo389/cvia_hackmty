{
 "cells": [
  {
   "cell_type": "code",
   "execution_count": 1,
   "metadata": {},
   "outputs": [],
   "source": [
    "from pydantic import BaseModel, Field, ValidationError\n",
    "\n",
    "from langchain.chat_models import ChatOpenAI\n",
    "from langchain.agents import Tool\n",
    "from langchain.embeddings.openai import OpenAIEmbeddings\n",
    "from langchain.text_splitter import CharacterTextSplitter\n",
    "from langchain.vectorstores import FAISS\n",
    "from langchain.document_loaders import PyPDFLoader\n",
    "from langchain.chains import RetrievalQA, LLMChain\n",
    "from langchain.memory import ConversationBufferMemory\n",
    "\n",
    "from langchain.agents import initialize_agent\n",
    "from langchain.agents import AgentType, ZeroShotAgent, AgentExecutor"
   ]
  },
  {
   "cell_type": "code",
   "execution_count": 2,
   "metadata": {},
   "outputs": [],
   "source": [
    "#class DocumentInput(BaseModel):\n",
    " #   question: str = None\n",
    "\n",
    "\n",
    "llm = ChatOpenAI(temperature=0, model=\"gpt-3.5-turbo\")\n",
    "\n",
    "tools = []\n",
    "files = [\n",
    "    # https://abc.xyz/investor/static/pdf/2023Q1_alphabet_earnings_release.pdf\n",
    "    {\n",
    "        \"name\": \"Resume Vega\",\n",
    "        \"path\": \"PDFS/Sebastian vega Cv.pdf\",\n",
    "    },\n",
    "    # https://digitalassets.tesla.com/tesla-contents/image/upload/IR/TSLA-Q1-2023-Update\n",
    "    {\n",
    "        \"name\": \"Resume Omar\",\n",
    "        \"path\": \"PDFS/Omar_Macias_Resume.pdf\",\n",
    "    },\n",
    "    {\n",
    "        \"name\": \"Resume Diego Mojarro\",\n",
    "        \"path\": \"PDFS/CV_Diego_Mojarro 2.pdf\",\n",
    "    },\n",
    "    {\n",
    "        \"name\": \"Resume Jorge Plasencia\",\n",
    "        \"path\": \"PDFS/CV_JorgePlasencia.pdf\",\n",
    "    },\n",
    "    {\n",
    "        \"name\": \"Resume Iker\",\n",
    "        \"path\": \"PDFS/Iker CV.pdf\",\n",
    "    },\n",
    "    {\n",
    "        \"name\": \"Resume Gael Venegas\",\n",
    "        \"path\": \"PDFS/Gael Venegas Resume.pdf\",\n",
    "    },\n",
    "]\n",
    "\n"
   ]
  },
  {
   "cell_type": "code",
   "execution_count": 3,
   "metadata": {},
   "outputs": [],
   "source": [
    "for file in files:\n",
    "    loader = PyPDFLoader(file[\"path\"])\n",
    "    pages = loader.load_and_split()\n",
    "    text_splitter = CharacterTextSplitter(chunk_size=1000, chunk_overlap=0)\n",
    "    docs = text_splitter.split_documents(pages)\n",
    "    embeddings = OpenAIEmbeddings()\n",
    "    retriever = FAISS.from_documents(docs, embeddings).as_retriever()\n",
    "\n",
    "    # Wrap retrievers in a Tool\n",
    "    tools.append(\n",
    "        Tool(\n",
    "            #args_schema=DocumentInput(),\n",
    "            name=file[\"name\"],\n",
    "            description=f\"useful when you want to answer questions about {file['name']}\",\n",
    "            func=RetrievalQA.from_chain_type(llm=llm, retriever=retriever),\n",
    "        )\n",
    "    )   "
   ]
  },
  {
   "cell_type": "code",
   "execution_count": 4,
   "metadata": {},
   "outputs": [],
   "source": [
    "llm = ChatOpenAI(\n",
    "    temperature=0,\n",
    "    model=\"gpt-4\",\n",
    ")\n",
    "\n",
    "agent = initialize_agent(\n",
    "    agent=AgentType.ZERO_SHOT_REACT_DESCRIPTION,\n",
    "    tools=tools,\n",
    "    llm=llm,\n",
    "    verbose=True,\n",
    ")"
   ]
  },
  {
   "cell_type": "code",
   "execution_count": 8,
   "metadata": {},
   "outputs": [
    {
     "name": "stdout",
     "output_type": "stream",
     "text": [
      "\n",
      "\n",
      "\u001b[1m> Entering new AgentExecutor chain...\u001b[0m\n",
      "\u001b[32;1m\u001b[1;3mNecesito revisar el currículum de Diego Mojarro para responder a esta pregunta.\n",
      "Action: Resume Diego Mojarro\n",
      "Action Input: Proyectos de Diego Mojarro\u001b[0m\n",
      "Observation: \u001b[38;5;200m\u001b[1;3m{'query': 'Proyectos de Diego Mojarro', 'result': 'Algunos de los proyectos de Diego Mojarro son:\\n\\n1. Corajillo Supply Chain: Desarrolló una aplicación full-stack en Next.js, Tailwind CSS, AWS RDS, PostgreSql y Node.js. Optimizó la gestión de la cadena de suministro mediante el cálculo de la producción faltante, lo que resultó en un aumento del 25% en la productividad. Este proyecto fue el ganador entre 16 equipos.\\n\\n2. relikz.xyz: Desarrolló una aplicación web3 que crea y ejecuta información blockchain en el cliente. Diseñó y desarrolló componentes de React para mejorar la experiencia del usuario. Utilizó Next.js, Tailwind CSS, Moralis, Solidity y Node.js.\\n\\n3. IBM Labor Recovery Expenses Tool: Implementó una aplicación de pila completa para IBM, que permite a los gerentes visualizar sus gastos de recuperación mensuales. Trabajó con 6 compañeros de equipo utilizando metodologías ágiles y de implementación continua. Utilizó React.js, Flask y PostgreSQL.\\n\\n4. FoodBankiOS: Desarrolló una aplicación de portal de donaciones para iOS para el banco de alimentos de México. Diseñó una sección para donar dinero y alimentos, ya sea mediante entrega o yendo a un centro de recolección. Implementó la funcionalidad para redirigir a Apple Maps para mostrar la distancia desde la ubicación actual hasta cada centro de recolección. Utilizó SwiftUI y Firebase.\\n\\n5. Amdocs Hirement: Diseñó y desarrolló un sitio para Amdocs que les permite ver el estado de sus contrataciones. Se enfocó en la interfaz de usuario y la experiencia de usuario. Utilizó HTML/CSS, Javascript, NodeJS y MySQL.\\n\\nEstos son solo algunos ejemplos de los proyectos en los que Diego Mojarro ha trabajado.'}\u001b[0m\n",
      "Thought:\u001b[32;1m\u001b[1;3mBasado en la observación, el proyecto más interesante de Diego podría ser el \"Corajillo Supply Chain\" debido a su impacto en la productividad y su reconocimiento como ganador entre 16 equipos. Sin embargo, la elección del proyecto más interesante puede ser subjetiva y depender de los intereses individuales.\n",
      "Final Answer: El proyecto más interesante de Diego podría ser \"Corajillo Supply Chain\". En este proyecto, Diego desarrolló una aplicación full-stack y optimizó la gestión de la cadena de suministro mediante el cálculo de la producción faltante, lo que resultó en un aumento del 25% en la productividad. Este proyecto fue el ganador entre 16 equipos. Sin embargo, la elección del proyecto más interesante puede ser subjetiva y depender de los intereses individuales.\u001b[0m\n",
      "\n",
      "\u001b[1m> Finished chain.\u001b[0m\n"
     ]
    },
    {
     "data": {
      "text/plain": [
       "'El proyecto más interesante de Diego podría ser \"Corajillo Supply Chain\". En este proyecto, Diego desarrolló una aplicación full-stack y optimizó la gestión de la cadena de suministro mediante el cálculo de la producción faltante, lo que resultó en un aumento del 25% en la productividad. Este proyecto fue el ganador entre 16 equipos. Sin embargo, la elección del proyecto más interesante puede ser subjetiva y depender de los intereses individuales.'"
      ]
     },
     "execution_count": 8,
     "metadata": {},
     "output_type": "execute_result"
    }
   ],
   "source": [
    "agent.run(\"Dime el proyecto mas interesante de Diego y por que \")"
   ]
  }
 ],
 "metadata": {
  "kernelspec": {
   "display_name": "venv",
   "language": "python",
   "name": "python3"
  },
  "language_info": {
   "codemirror_mode": {
    "name": "ipython",
    "version": 3
   },
   "file_extension": ".py",
   "mimetype": "text/x-python",
   "name": "python",
   "nbconvert_exporter": "python",
   "pygments_lexer": "ipython3",
   "version": "3.10.7"
  },
  "orig_nbformat": 4
 },
 "nbformat": 4,
 "nbformat_minor": 2
}
